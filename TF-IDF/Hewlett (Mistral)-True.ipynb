{
 "cells": [
  {
   "cell_type": "code",
   "execution_count": 1,
   "metadata": {},
   "outputs": [],
   "source": [
    "import numpy as np # linear algebra\n",
    "import pandas as pd # data processing, CSV file I/O (e.g. pd.read_csv)\n",
    "import seaborn as sns\n",
    "import matplotlib.pyplot as plt"
   ]
  },
  {
   "cell_type": "code",
   "execution_count": 2,
   "metadata": {},
   "outputs": [
    {
     "data": {
      "text/html": [
       "<div>\n",
       "<style scoped>\n",
       "    .dataframe tbody tr th:only-of-type {\n",
       "        vertical-align: middle;\n",
       "    }\n",
       "\n",
       "    .dataframe tbody tr th {\n",
       "        vertical-align: top;\n",
       "    }\n",
       "\n",
       "    .dataframe thead th {\n",
       "        text-align: right;\n",
       "    }\n",
       "</style>\n",
       "<table border=\"1\" class=\"dataframe\">\n",
       "  <thead>\n",
       "    <tr style=\"text-align: right;\">\n",
       "      <th></th>\n",
       "      <th>essay_set</th>\n",
       "      <th>essay_id</th>\n",
       "      <th>text</th>\n",
       "      <th>label</th>\n",
       "      <th>prompt</th>\n",
       "    </tr>\n",
       "  </thead>\n",
       "  <tbody>\n",
       "    <tr>\n",
       "      <th>0</th>\n",
       "      <td>1</td>\n",
       "      <td>828</td>\n",
       "      <td>Dear @CAPS1, Computers have been an incredible...</td>\n",
       "      <td>0</td>\n",
       "      <td>You will be provided with a prompt for an essa...</td>\n",
       "    </tr>\n",
       "    <tr>\n",
       "      <th>1</th>\n",
       "      <td>1</td>\n",
       "      <td>1477</td>\n",
       "      <td>I blive that computers have a lot of effects o...</td>\n",
       "      <td>0</td>\n",
       "      <td>You will be provided with a prompt for an essa...</td>\n",
       "    </tr>\n",
       "    <tr>\n",
       "      <th>2</th>\n",
       "      <td>1</td>\n",
       "      <td>235</td>\n",
       "      <td>To whom it @MONTH1 concern, I feel that comput...</td>\n",
       "      <td>0</td>\n",
       "      <td>You will be provided with a prompt for an essa...</td>\n",
       "    </tr>\n",
       "    <tr>\n",
       "      <th>3</th>\n",
       "      <td>1</td>\n",
       "      <td>802</td>\n",
       "      <td>Dear local newspaper, The question that everyo...</td>\n",
       "      <td>0</td>\n",
       "      <td>You will be provided with a prompt for an essa...</td>\n",
       "    </tr>\n",
       "    <tr>\n",
       "      <th>4</th>\n",
       "      <td>1</td>\n",
       "      <td>781</td>\n",
       "      <td>Dear @PERSON1 the editor of the @LOCATION1 cit...</td>\n",
       "      <td>0</td>\n",
       "      <td>You will be provided with a prompt for an essa...</td>\n",
       "    </tr>\n",
       "    <tr>\n",
       "      <th>5</th>\n",
       "      <td>1</td>\n",
       "      <td>272</td>\n",
       "      <td>Dear Local Newspaper, I think Computers have a...</td>\n",
       "      <td>0</td>\n",
       "      <td>You will be provided with a prompt for an essa...</td>\n",
       "    </tr>\n",
       "    <tr>\n",
       "      <th>6</th>\n",
       "      <td>1</td>\n",
       "      <td>420</td>\n",
       "      <td>Dear @CAPS1 people, Your have been told that u...</td>\n",
       "      <td>0</td>\n",
       "      <td>You will be provided with a prompt for an essa...</td>\n",
       "    </tr>\n",
       "    <tr>\n",
       "      <th>7</th>\n",
       "      <td>1</td>\n",
       "      <td>1441</td>\n",
       "      <td>Dear local nepaper, I have reacently heard abo...</td>\n",
       "      <td>0</td>\n",
       "      <td>You will be provided with a prompt for an essa...</td>\n",
       "    </tr>\n",
       "    <tr>\n",
       "      <th>8</th>\n",
       "      <td>1</td>\n",
       "      <td>1351</td>\n",
       "      <td>Dear local @CAPS1, @CAPS2 people have been usi...</td>\n",
       "      <td>0</td>\n",
       "      <td>You will be provided with a prompt for an essa...</td>\n",
       "    </tr>\n",
       "    <tr>\n",
       "      <th>9</th>\n",
       "      <td>1</td>\n",
       "      <td>113</td>\n",
       "      <td>Dear @CAPS1 paper, @CAPS2 name is @PERSON1 and...</td>\n",
       "      <td>0</td>\n",
       "      <td>You will be provided with a prompt for an essa...</td>\n",
       "    </tr>\n",
       "  </tbody>\n",
       "</table>\n",
       "</div>"
      ],
      "text/plain": [
       "   essay_set  essay_id                                               text  \\\n",
       "0          1       828  Dear @CAPS1, Computers have been an incredible...   \n",
       "1          1      1477  I blive that computers have a lot of effects o...   \n",
       "2          1       235  To whom it @MONTH1 concern, I feel that comput...   \n",
       "3          1       802  Dear local newspaper, The question that everyo...   \n",
       "4          1       781  Dear @PERSON1 the editor of the @LOCATION1 cit...   \n",
       "5          1       272  Dear Local Newspaper, I think Computers have a...   \n",
       "6          1       420  Dear @CAPS1 people, Your have been told that u...   \n",
       "7          1      1441  Dear local nepaper, I have reacently heard abo...   \n",
       "8          1      1351  Dear local @CAPS1, @CAPS2 people have been usi...   \n",
       "9          1       113  Dear @CAPS1 paper, @CAPS2 name is @PERSON1 and...   \n",
       "\n",
       "   label                                             prompt  \n",
       "0      0  You will be provided with a prompt for an essa...  \n",
       "1      0  You will be provided with a prompt for an essa...  \n",
       "2      0  You will be provided with a prompt for an essa...  \n",
       "3      0  You will be provided with a prompt for an essa...  \n",
       "4      0  You will be provided with a prompt for an essa...  \n",
       "5      0  You will be provided with a prompt for an essa...  \n",
       "6      0  You will be provided with a prompt for an essa...  \n",
       "7      0  You will be provided with a prompt for an essa...  \n",
       "8      0  You will be provided with a prompt for an essa...  \n",
       "9      0  You will be provided with a prompt for an essa...  "
      ]
     },
     "execution_count": 2,
     "metadata": {},
     "output_type": "execute_result"
    }
   ],
   "source": [
    "input_file = 'hewlett-n=1000-instruct=True-model=mistral-7b-instruct.csv'\n",
    "df = pd.read_csv(input_file)\n",
    "df.head(10)"
   ]
  },
  {
   "cell_type": "code",
   "execution_count": 3,
   "metadata": {},
   "outputs": [
    {
     "data": {
      "image/png": "[encoded data removed]",
      "text/plain": [
       "<Figure size 864x288 with 1 Axes>"
      ]
     },
     "metadata": {
      "needs_background": "light"
     },
     "output_type": "display_data"
    }
   ],
   "source": [
    "f, ax = plt.subplots(figsize=(12, 4))\n",
    "\n",
    "sns.despine()\n",
    "\n",
    "ax = sns.countplot(data=df, x=\"label\")\n",
    "\n",
    "abs_values = df['label'].value_counts().values\n",
    "\n",
    "ax.bar_label(container=ax.containers[0], labels=abs_values)\n",
    "\n",
    "ax.set_title(\"Distribution of Generated Text\")\n",
    "\n",
    "plt.show()"
   ]
  },
  {
   "cell_type": "code",
   "execution_count": 4,
   "metadata": {},
   "outputs": [],
   "source": [
    "# Shuffling the data\n",
    "shuffled_data = df.sample(frac=1, random_state=21)"
   ]
  },
  {
   "cell_type": "code",
   "execution_count": 5,
   "metadata": {},
   "outputs": [
    {
     "data": {
      "text/html": [
       "<div>\n",
       "<style scoped>\n",
       "    .dataframe tbody tr th:only-of-type {\n",
       "        vertical-align: middle;\n",
       "    }\n",
       "\n",
       "    .dataframe tbody tr th {\n",
       "        vertical-align: top;\n",
       "    }\n",
       "\n",
       "    .dataframe thead th {\n",
       "        text-align: right;\n",
       "    }\n",
       "</style>\n",
       "<table border=\"1\" class=\"dataframe\">\n",
       "  <thead>\n",
       "    <tr style=\"text-align: right;\">\n",
       "      <th></th>\n",
       "      <th>essay_set</th>\n",
       "      <th>essay_id</th>\n",
       "      <th>text</th>\n",
       "      <th>label</th>\n",
       "      <th>prompt</th>\n",
       "    </tr>\n",
       "  </thead>\n",
       "  <tbody>\n",
       "    <tr>\n",
       "      <th>4842</th>\n",
       "      <td>1</td>\n",
       "      <td>20</td>\n",
       "      <td>Subject: The Blessings of Technology: A Gift t...</td>\n",
       "      <td>1</td>\n",
       "      <td>You will be provided with a prompt for an essa...</td>\n",
       "    </tr>\n",
       "    <tr>\n",
       "      <th>7016</th>\n",
       "      <td>7</td>\n",
       "      <td>44</td>\n",
       "      <td>I remember a time when patience was truly put ...</td>\n",
       "      <td>1</td>\n",
       "      <td>You will be provided with a prompt for an essa...</td>\n",
       "    </tr>\n",
       "    <tr>\n",
       "      <th>5724</th>\n",
       "      <td>1</td>\n",
       "      <td>2</td>\n",
       "      <td>Dear Editor,\\nIn recent years, computers have ...</td>\n",
       "      <td>1</td>\n",
       "      <td>You will be provided with a prompt for an essa...</td>\n",
       "    </tr>\n",
       "    <tr>\n",
       "      <th>7584</th>\n",
       "      <td>8</td>\n",
       "      <td>12</td>\n",
       "      <td>Laughter: The Unifying Force in Relationships\\...</td>\n",
       "      <td>1</td>\n",
       "      <td>You will be provided with a prompt for an essa...</td>\n",
       "    </tr>\n",
       "    <tr>\n",
       "      <th>4094</th>\n",
       "      <td>8</td>\n",
       "      <td>22</td>\n",
       "      <td>Title: Laughter as a Bridge: A True Story\\n\\nL...</td>\n",
       "      <td>1</td>\n",
       "      <td>You will be provided with a prompt for an essa...</td>\n",
       "    </tr>\n",
       "  </tbody>\n",
       "</table>\n",
       "</div>"
      ],
      "text/plain": [
       "      essay_set  essay_id                                               text  \\\n",
       "4842          1        20  Subject: The Blessings of Technology: A Gift t...   \n",
       "7016          7        44  I remember a time when patience was truly put ...   \n",
       "5724          1         2  Dear Editor,\\nIn recent years, computers have ...   \n",
       "7584          8        12  Laughter: The Unifying Force in Relationships\\...   \n",
       "4094          8        22  Title: Laughter as a Bridge: A True Story\\n\\nL...   \n",
       "\n",
       "      label                                             prompt  \n",
       "4842      1  You will be provided with a prompt for an essa...  \n",
       "7016      1  You will be provided with a prompt for an essa...  \n",
       "5724      1  You will be provided with a prompt for an essa...  \n",
       "7584      1  You will be provided with a prompt for an essa...  \n",
       "4094      1  You will be provided with a prompt for an essa...  "
      ]
     },
     "execution_count": 5,
     "metadata": {},
     "output_type": "execute_result"
    }
   ],
   "source": [
    "shuffled_data.head()"
   ]
  },
  {
   "cell_type": "markdown",
   "metadata": {},
   "source": [
    "### Implementation of TF-IDF"
   ]
  },
  {
   "cell_type": "code",
   "execution_count": 6,
   "metadata": {},
   "outputs": [
    {
     "name": "stderr",
     "output_type": "stream",
     "text": [
      "[nltk_data] Downloading package stopwords to C:\\Users\\Ayush\n",
      "[nltk_data]     Rajpal\\AppData\\Roaming\\nltk_data...\n",
      "[nltk_data]   Package stopwords is already up-to-date!\n"
     ]
    },
    {
     "data": {
      "text/plain": [
       "True"
      ]
     },
     "execution_count": 6,
     "metadata": {},
     "output_type": "execute_result"
    }
   ],
   "source": [
    "from sklearn.feature_extraction.text import TfidfVectorizer\n",
    "from sklearn.metrics import accuracy_score, precision_score, recall_score, f1_score\n",
    "\n",
    "import nltk\n",
    "nltk.download('stopwords')"
   ]
  },
  {
   "cell_type": "code",
   "execution_count": 7,
   "metadata": {},
   "outputs": [],
   "source": [
    "# TF-IDF Vectorization\n",
    "vectorizer = TfidfVectorizer()\n",
    "# Converting text to numerical form\n",
    "X = vectorizer.fit_transform(shuffled_data[\"text\"])\n",
    "Y = shuffled_data[\"label\"]"
   ]
  },
  {
   "cell_type": "code",
   "execution_count": 8,
   "metadata": {},
   "outputs": [],
   "source": [
    "# Split the dataset into train and test sets\n",
    "from sklearn.model_selection import train_test_split\n",
    "X_train, X_test, y_train, y_test = train_test_split(X,\n",
    "                                                    Y,\n",
    "                                                    test_size=0.25,\n",
    "                                                    random_state=10)"
   ]
  },
  {
   "cell_type": "code",
   "execution_count": 9,
   "metadata": {},
   "outputs": [
    {
     "data": {
      "text/plain": [
       "5791"
      ]
     },
     "execution_count": 9,
     "metadata": {},
     "output_type": "execute_result"
    }
   ],
   "source": [
    "np.size(y_train)"
   ]
  },
  {
   "cell_type": "code",
   "execution_count": 10,
   "metadata": {},
   "outputs": [
    {
     "data": {
      "text/plain": [
       "1931"
      ]
     },
     "execution_count": 10,
     "metadata": {},
     "output_type": "execute_result"
    }
   ],
   "source": [
    "np.size(y_test)"
   ]
  },
  {
   "cell_type": "code",
   "execution_count": 11,
   "metadata": {},
   "outputs": [
    {
     "name": "stdout",
     "output_type": "stream",
     "text": [
      "Number of 0s: 943\n",
      "Number of 1s: 988\n"
     ]
    }
   ],
   "source": [
    "counts = np.bincount(y_test)\n",
    "number_of_zeros = counts[0]\n",
    "number_of_ones = counts[1]\n",
    "\n",
    "print(f\"Number of 0s: {number_of_zeros}\")\n",
    "print(f\"Number of 1s: {number_of_ones}\")"
   ]
  },
  {
   "cell_type": "markdown",
   "metadata": {},
   "source": [
    "### Multinomial Naive Bayes"
   ]
  },
  {
   "cell_type": "code",
   "execution_count": 12,
   "metadata": {},
   "outputs": [
    {
     "data": {
      "text/plain": [
       "MultinomialNB()"
      ]
     },
     "execution_count": 12,
     "metadata": {},
     "output_type": "execute_result"
    }
   ],
   "source": [
    "from sklearn.naive_bayes import MultinomialNB\n",
    "\n",
    "classifier_NB = MultinomialNB()\n",
    "classifier_NB.fit(X_train, y_train)"
   ]
  },
  {
   "cell_type": "code",
   "execution_count": 13,
   "metadata": {},
   "outputs": [],
   "source": [
    "# Model Evaluation\n",
    "y_pred = classifier_NB.predict(X_test)\n",
    "accuracy = accuracy_score(y_test, y_pred) * 100\n",
    "precision = precision_score(y_test, y_pred) * 100\n",
    "recall = recall_score(y_test, y_pred) * 100\n",
    "f1 = f1_score(y_test, y_pred) * 100"
   ]
  },
  {
   "cell_type": "code",
   "execution_count": 14,
   "metadata": {},
   "outputs": [
    {
     "name": "stdout",
     "output_type": "stream",
     "text": [
      "Accuracy: 99.84%\n",
      "Precision: 99.80%\n",
      "Recall: 99.90%\n",
      "F1 Score: 99.85%\n"
     ]
    }
   ],
   "source": [
    "print(f\"Accuracy: {accuracy:.2f}%\")\n",
    "print(f\"Precision: {precision:.2f}%\")\n",
    "print(f\"Recall: {recall:.2f}%\")\n",
    "print(f\"F1 Score: {f1:.2f}%\")"
   ]
  },
  {
   "cell_type": "markdown",
   "metadata": {},
   "source": [
    "### Random Forest"
   ]
  },
  {
   "cell_type": "code",
   "execution_count": 15,
   "metadata": {},
   "outputs": [
    {
     "data": {
      "text/plain": [
       "RandomForestClassifier(criterion='entropy', n_estimators=10, random_state=42)"
      ]
     },
     "execution_count": 15,
     "metadata": {},
     "output_type": "execute_result"
    }
   ],
   "source": [
    "from sklearn.ensemble import RandomForestClassifier\n",
    "from sklearn.datasets import make_classification\n",
    "\n",
    "classifier = RandomForestClassifier(n_estimators = 10, criterion = 'entropy', random_state = 42)\n",
    "classifier.fit(X_train, y_train)"
   ]
  },
  {
   "cell_type": "code",
   "execution_count": 16,
   "metadata": {},
   "outputs": [
    {
     "name": "stdout",
     "output_type": "stream",
     "text": [
      "Accuracy: 99.74%\n",
      "Precision: 99.90%\n",
      "Recall: 99.60%\n",
      "F1 Score: 99.75%\n"
     ]
    }
   ],
   "source": [
    "# Model Evaluation\n",
    "y_pred = classifier.predict(X_test)\n",
    "accuracy = accuracy_score(y_test, y_pred) * 100\n",
    "precision = precision_score(y_test, y_pred) * 100\n",
    "recall = recall_score(y_test, y_pred) * 100\n",
    "f1 = f1_score(y_test, y_pred) * 100\n",
    "\n",
    "print(f\"Accuracy: {accuracy:.2f}%\")\n",
    "print(f\"Precision: {precision:.2f}%\")\n",
    "print(f\"Recall: {recall:.2f}%\")\n",
    "print(f\"F1 Score: {f1:.2f}%\")"
   ]
  },
  {
   "cell_type": "code",
   "execution_count": 17,
   "metadata": {},
   "outputs": [
    {
     "data": {
      "text/plain": [
       "RandomForestClassifier(random_state=42)"
      ]
     },
     "execution_count": 17,
     "metadata": {},
     "output_type": "execute_result"
    }
   ],
   "source": [
    "# Changing the number of trees and the criterion\n",
    "\n",
    "classifier_gini = RandomForestClassifier(n_estimators = 100, criterion = 'gini', random_state = 42)\n",
    "classifier_gini.fit(X_train, y_train)"
   ]
  },
  {
   "cell_type": "code",
   "execution_count": 18,
   "metadata": {},
   "outputs": [
    {
     "name": "stdout",
     "output_type": "stream",
     "text": [
      "Accuracy: 100.00%\n",
      "Precision: 100.00%\n",
      "Recall: 100.00%\n",
      "F1 Score: 100.00%\n"
     ]
    }
   ],
   "source": [
    "y_pred = classifier_gini.predict(X_test)\n",
    "accuracy = accuracy_score(y_test, y_pred) * 100\n",
    "precision = precision_score(y_test, y_pred) * 100\n",
    "recall = recall_score(y_test, y_pred) * 100\n",
    "f1 = f1_score(y_test, y_pred) * 100\n",
    "\n",
    "print(f\"Accuracy: {accuracy:.2f}%\")\n",
    "print(f\"Precision: {precision:.2f}%\")\n",
    "print(f\"Recall: {recall:.2f}%\")\n",
    "print(f\"F1 Score: {f1:.2f}%\")"
   ]
  },
  {
   "cell_type": "markdown",
   "metadata": {},
   "source": [
    "### Logistic Regression"
   ]
  },
  {
   "cell_type": "code",
   "execution_count": 19,
   "metadata": {},
   "outputs": [
    {
     "data": {
      "text/plain": [
       "LogisticRegression(random_state=42)"
      ]
     },
     "execution_count": 19,
     "metadata": {},
     "output_type": "execute_result"
    }
   ],
   "source": [
    "from sklearn.linear_model import LogisticRegression\n",
    "\n",
    "classifier_LR = LogisticRegression(random_state=42)\n",
    "classifier_LR.fit(X_train, y_train)"
   ]
  },
  {
   "cell_type": "code",
   "execution_count": 20,
   "metadata": {},
   "outputs": [
    {
     "name": "stdout",
     "output_type": "stream",
     "text": [
      "Accuracy: 99.79%\n",
      "Precision: 99.70%\n",
      "Recall: 99.90%\n",
      "F1 Score: 99.80%\n"
     ]
    }
   ],
   "source": [
    "y_pred = classifier_LR.predict(X_test)\n",
    "accuracy = accuracy_score(y_test, y_pred) * 100\n",
    "precision = precision_score(y_test, y_pred) * 100\n",
    "recall = recall_score(y_test, y_pred) * 100\n",
    "f1 = f1_score(y_test, y_pred) * 100\n",
    "\n",
    "print(f\"Accuracy: {accuracy:.2f}%\")\n",
    "print(f\"Precision: {precision:.2f}%\")\n",
    "print(f\"Recall: {recall:.2f}%\")\n",
    "print(f\"F1 Score: {f1:.2f}%\")"
   ]
  },
  {
   "cell_type": "code",
   "execution_count": 21,
   "metadata": {},
   "outputs": [
    {
     "name": "stdout",
     "output_type": "stream",
     "text": [
      "Number of 0s: 941\n",
      "Number of 1s: 990\n"
     ]
    }
   ],
   "source": [
    "counts = np.bincount(y_pred)\n",
    "number_of_zeros = counts[0]\n",
    "number_of_ones = counts[1]\n",
    "\n",
    "print(f\"Number of 0s: {number_of_zeros}\")\n",
    "print(f\"Number of 1s: {number_of_ones}\")"
   ]
  },
  {
   "cell_type": "code",
   "execution_count": null,
   "metadata": {},
   "outputs": [],
   "source": []
  }
 ],
 "metadata": {
  "kernelspec": {
   "display_name": "Python 3",
   "language": "python",
   "name": "python3"
  },
  "language_info": {
   "codemirror_mode": {
    "name": "ipython",
    "version": 3
   },
   "file_extension": ".py",
   "mimetype": "text/x-python",
   "name": "python",
   "nbconvert_exporter": "python",
   "pygments_lexer": "ipython3",
   "version": "3.7.3"
  }
 },
 "nbformat": 4,
 "nbformat_minor": 2
}

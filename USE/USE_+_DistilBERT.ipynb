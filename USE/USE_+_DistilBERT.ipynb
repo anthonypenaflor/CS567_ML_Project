{
  "metadata": {
    "kernelspec": {
      "display_name": "Python 3",
      "name": "python3"
    },
    "language_info": {
      "name": "python",
      "version": "3.10.12",
      "mimetype": "text/x-python",
      "codemirror_mode": {
        "name": "ipython",
        "version": 3
      },
      "pygments_lexer": "ipython3",
      "nbconvert_exporter": "python",
      "file_extension": ".py"
    },
    "kaggle": {
      "accelerator": "nvidiaTeslaT4",
      "dataSources": [
        {
          "sourceId": 61542,
          "databundleVersionId": 6888007,
          "sourceType": "competition"
        },
        {
          "sourceId": 6890527,
          "sourceType": "datasetVersion",
          "datasetId": 3942644
        }
      ],
      "dockerImageVersionId": 30558,
      "isInternetEnabled": true,
      "language": "python",
      "sourceType": "notebook",
      "isGpuEnabled": true
    },
    "colab": {
      "provenance": [],
      "gpuType": "T4"
    },
    "accelerator": "GPU"
  },
  "nbformat_minor": 0,
  "nbformat": 4,
  "cells": [
    {
      "cell_type": "code",
      "source": [
        "!pip install tensorflow"
      ],
      "metadata": {
        "id": "GA0THpY6sKiJ"
      },
      "execution_count": null,
      "outputs": []
    },
    {
      "cell_type": "code",
      "source": [
        "!pip install keras-core --upgrade\n",
        "!pip install -q keras-nlp\n",
        "!pip install seaborn\n",
        "!pip install tensorflow-text==2.15.0\n",
        "!pip install --upgrade tensorflow-hub\n",
        "!pip install scikit-learn"
      ],
      "metadata": {
        "execution": {
          "iopub.status.busy": "2023-12-04T17:40:42.746117Z",
          "iopub.execute_input": "2023-12-04T17:40:42.746595Z",
          "iopub.status.idle": "2023-12-04T17:41:23.536710Z",
          "shell.execute_reply.started": "2023-12-04T17:40:42.746561Z",
          "shell.execute_reply": "2023-12-04T17:41:23.535653Z"
        },
        "trusted": true,
        "id": "Hjsw3gPgUJCi"
      },
      "execution_count": null,
      "outputs": []
    },
    {
      "cell_type": "code",
      "source": [
        "import os\n",
        "os.environ['KERAS_BACKEND'] = 'tensorflow'\n",
        "import numpy as np\n",
        "import pandas as pd\n",
        "import tensorflow as tf\n",
        "import tensorflow_hub as hub\n",
        "import keras_core as keras\n",
        "import keras_nlp\n",
        "import seaborn as sns\n",
        "import matplotlib.pyplot as plt\n",
        "from sklearn.model_selection import train_test_split\n",
        "from transformers import DistilBertTokenizer\n"
      ],
      "metadata": {
        "execution": {
          "iopub.status.busy": "2023-12-04T17:41:23.539203Z",
          "iopub.execute_input": "2023-12-04T17:41:23.539625Z",
          "iopub.status.idle": "2023-12-04T17:41:42.519450Z",
          "shell.execute_reply.started": "2023-12-04T17:41:23.539585Z",
          "shell.execute_reply": "2023-12-04T17:41:42.518440Z"
        },
        "trusted": true,
        "id": "iNRJ5nMMUJCj"
      },
      "execution_count": null,
      "outputs": []
    },
    {
      "cell_type": "code",
      "source": [
        "PROJECT_DIR = '/content/drive/MyDrive/data/'\n",
        "\n",
        "for dirname, _, filenames in os.walk(PROJECT_DIR):\n",
        "    for filename in filenames:\n",
        "        print(os.path.join(dirname, filename))"
      ],
      "metadata": {
        "id": "9D6aliQ6ikQn"
      },
      "execution_count": null,
      "outputs": []
    },
    {
      "cell_type": "code",
      "source": [
        "os.getcwd()"
      ],
      "metadata": {
        "id": "u41XCQqYFmTA"
      },
      "execution_count": null,
      "outputs": []
    },
    {
      "cell_type": "code",
      "source": [
        "from google.colab import drive\n",
        "drive.mount('/content/drive/')"
      ],
      "metadata": {
        "id": "TGiyKb5VITFh"
      },
      "execution_count": null,
      "outputs": []
    },
    {
      "cell_type": "code",
      "source": [
        "df_train_essays = pd.read_csv(\"/content/drive/MyDrive/data/daigt_full_dataset.csv\")"
      ],
      "metadata": {
        "execution": {
          "iopub.status.busy": "2023-12-04T17:41:42.612261Z",
          "iopub.execute_input": "2023-12-04T17:41:42.612536Z",
          "iopub.status.idle": "2023-12-04T17:41:42.713292Z",
          "shell.execute_reply.started": "2023-12-04T17:41:42.612513Z",
          "shell.execute_reply": "2023-12-04T17:41:42.712423Z"
        },
        "trusted": true,
        "id": "ydFg7xDYUJCk"
      },
      "execution_count": null,
      "outputs": []
    },
    {
      "cell_type": "code",
      "source": [
        "f, ax = plt.subplots(figsize=(12, 4))\n",
        "\n",
        "sns.despine()\n",
        "ax = sns.countplot(data=df_train_essays,\n",
        "                   x=\"label\")\n",
        "\n",
        "abs_values = df_train_essays['label'].value_counts().values\n",
        "\n",
        "ax.bar_label(container=ax.containers[0], labels=abs_values)\n",
        "\n",
        "ax.set_title(\"Distribution of Labels\")"
      ],
      "metadata": {
        "execution": {
          "iopub.status.busy": "2023-12-04T17:41:42.714684Z",
          "iopub.execute_input": "2023-12-04T17:41:42.715346Z",
          "iopub.status.idle": "2023-12-04T17:41:43.062958Z",
          "shell.execute_reply.started": "2023-12-04T17:41:42.715306Z",
          "shell.execute_reply": "2023-12-04T17:41:43.062037Z"
        },
        "trusted": true,
        "id": "xC4PbrSQUJCk"
      },
      "execution_count": null,
      "outputs": []
    },
    {
      "cell_type": "code",
      "source": [
        "df_test_essays = pd.read_csv(PROJECT_DIR + 'CNN-and-Essays-Datasets/CNN Dataset.csv', encoding='utf-8')\n",
        "df_test_essays.rename(columns={\"generated\": \"label\"}, inplace=True)"
      ],
      "metadata": {
        "execution": {
          "iopub.status.busy": "2023-12-04T17:41:43.395091Z",
          "iopub.execute_input": "2023-12-04T17:41:43.395388Z",
          "iopub.status.idle": "2023-12-04T17:41:46.367525Z",
          "shell.execute_reply.started": "2023-12-04T17:41:43.395340Z",
          "shell.execute_reply": "2023-12-04T17:41:46.366288Z"
        },
        "trusted": true,
        "id": "BSeiQkUoUJCm"
      },
      "execution_count": null,
      "outputs": []
    },
    {
      "cell_type": "code",
      "source": [
        "if \"label\" not in df_train_essays.columns:\n",
        "    df_train_essays[\"label\"] = 0"
      ],
      "metadata": {
        "id": "4wr4mXqFjVnN"
      },
      "execution_count": null,
      "outputs": []
    },
    {
      "cell_type": "code",
      "source": [
        "df_train_essays_ext_shuffled = pd.concat([df_train_essays_ext.iloc[:1], df_train_essays_ext.iloc[1:].sample(frac=1, random_state=42)])\n",
        "\n",
        "df_train_essays_ext_shuffled.reset_index(drop=True, inplace=True)\n",
        "train_data, test_data = train_test_split(df_train_essays_ext_shuffled.iloc[1:], test_size=0.2, random_state=42)\n",
        "train_data_with_header = pd.concat([df_train_essays_ext_shuffled.iloc[:1], train_data[[\"text\", \"label\"]]])\n",
        "test_data_with_header = pd.concat([df_train_essays_ext_shuffled.iloc[:1], test_data[[\"text\", \"label\"]]])\n",
        "train_data_with_header.reset_index(drop=True, inplace=True)\n",
        "test_data_with_header.reset_index(drop=True, inplace=True)\n",
        "df_test_essays_final = pd.concat([train_data_with_header[[\"text\", \"label\"]], df_train_essays[[\"text\", \"label\"]]])"
      ],
      "metadata": {
        "id": "4Z0refvmR-6q"
      },
      "execution_count": null,
      "outputs": []
    },
    {
      "cell_type": "code",
      "source": [
        "f, ax = plt.subplots(figsize=(12, 4))\n",
        "\n",
        "sns.despine()\n",
        "ax = sns.countplot(data=df_test_essays,\n",
        "                   x=\"label\")\n",
        "\n",
        "abs_values = df_test_essays['label'].value_counts().values\n",
        "\n",
        "ax.bar_label(container=ax.containers[0], labels=abs_values)\n",
        "\n",
        "ax.set_title(\"Distribution of Generated Text\")"
      ],
      "metadata": {
        "execution": {
          "iopub.status.busy": "2023-12-04T17:41:46.382745Z",
          "iopub.execute_input": "2023-12-04T17:41:46.383048Z",
          "iopub.status.idle": "2023-12-04T17:41:46.675012Z",
          "shell.execute_reply.started": "2023-12-04T17:41:46.383022Z",
          "shell.execute_reply": "2023-12-04T17:41:46.674030Z"
        },
        "trusted": true,
        "id": "PTZ2l4SCUJCm"
      },
      "execution_count": null,
      "outputs": []
    },
    {
      "cell_type": "code",
      "source": [
        "df_train_essays[\"text_length\"] = df_train_essays[\"text\"].apply(lambda x : len(x.split()))"
      ],
      "metadata": {
        "execution": {
          "iopub.status.busy": "2023-12-04T17:41:46.723564Z",
          "iopub.execute_input": "2023-12-04T17:41:46.723903Z",
          "iopub.status.idle": "2023-12-04T17:41:46.775158Z",
          "shell.execute_reply.started": "2023-12-04T17:41:46.723870Z",
          "shell.execute_reply": "2023-12-04T17:41:46.774422Z"
        },
        "trusted": true,
        "id": "LGjwyQDMUJCn"
      },
      "execution_count": null,
      "outputs": []
    },
    {
      "cell_type": "code",
      "source": [
        "from tensorflow.python.keras.optimizers import adam_v2\n"
      ],
      "metadata": {
        "id": "TwrdzMgRcMVd"
      },
      "execution_count": null,
      "outputs": []
    },
    {
      "cell_type": "code",
      "source": [
        "tokenizer = DistilBertTokenizer.from_pretrained('distilbert-base-uncased')"
      ],
      "metadata": {
        "id": "kg_C23tHN7an"
      },
      "execution_count": null,
      "outputs": []
    },
    {
      "cell_type": "code",
      "source": [
        "SEQ_LENGTH = 512\n",
        "\n",
        "preprocessor = keras_nlp.models.DistilBertPreprocessor.from_preset(\n",
        "    \"distil_bert_base_en_uncased\",\n",
        "    sequence_length=SEQ_LENGTH,\n",
        ")\n",
        "\n",
        "classifier = keras_nlp.models.DistilBertClassifier.from_preset(\n",
        "    \"distil_bert_base_en_uncased\",\n",
        "    num_classes=2,\n",
        "    activation=None,\n",
        "    preprocessor=preprocessor,\n",
        ")\n",
        "\n",
        "classifier.compile(\n",
        "    loss=tf.keras.losses.SparseCategoricalCrossentropy(from_logits=True),\n",
        "    optimizer=tf.keras.optimizers.Adam(learning_rate=5e-4),\n",
        "    metrics=[\n",
        "        tf.keras.metrics.SparseCategoricalAccuracy()\n",
        "   ]\n",
        ")\n",
        "\n",
        "classifier.backbone.trainable = True\n",
        "\n",
        "\n",
        "classifier.summary()"
      ],
      "metadata": {
        "execution": {
          "iopub.status.busy": "2023-12-04T17:41:47.383160Z",
          "iopub.execute_input": "2023-12-04T17:41:47.383484Z",
          "iopub.status.idle": "2023-12-04T17:41:57.547250Z",
          "shell.execute_reply.started": "2023-12-04T17:41:47.383457Z",
          "shell.execute_reply": "2023-12-04T17:41:57.546342Z"
        },
        "trusted": true,
        "id": "nufCbGd2UJCn"
      },
      "execution_count": null,
      "outputs": []
    },
    {
      "cell_type": "code",
      "source": [
        "from sklearn.model_selection import train_test_split\n",
        "X_train, X_test, y_train, y_test = train_test_split(df_test_essays_final[\"text\"],\n",
        "                                                    df_test_essays_final[\"label\"],\n",
        "                                                    test_size=0.30,\n",
        "                                                    random_state=42)"
      ],
      "metadata": {
        "id": "dfs2j4kmf_-E"
      },
      "execution_count": null,
      "outputs": []
    },
    {
      "cell_type": "code",
      "source": [
        "use_model = hub.load(\"https://tfhub.dev/google/universal-sentence-encoder/4\")"
      ],
      "metadata": {
        "id": "bOHjzmIX4iKi"
      },
      "execution_count": null,
      "outputs": []
    },
    {
      "cell_type": "code",
      "source": [
        "def encode_texts(texts):\n",
        "    if isinstance(texts, pd.Series):\n",
        "        texts = texts.tolist()\n",
        "    elif isinstance(texts, str):\n",
        "        texts = [texts]\n",
        "\n",
        "    texts_tensor = tf.convert_to_tensor(texts)\n",
        "    texts_tensor = tf.cast(texts_tensor, tf.string)\n",
        "\n",
        "    encoded_texts = use_model(texts_tensor)\n",
        "    return encoded_texts.numpy()"
      ],
      "metadata": {
        "id": "uywOUpYx4jYb"
      },
      "execution_count": null,
      "outputs": []
    },
    {
      "cell_type": "code",
      "source": [
        "input_layer = tf.keras.layers.Input(shape=(512,), dtype=tf.float32, name=\"input_layer\")\n",
        "dropout_layer = tf.keras.layers.Dropout(0.5)(input_layer)\n",
        "output_layer = tf.keras.layers.Dense(2, activation=\"softmax\", name=\"output_layer\")(dropout_layer)\n",
        "\n",
        "model = tf.keras.Model(inputs=input_layer, outputs=output_layer)"
      ],
      "metadata": {
        "id": "hWc9IWO54mdB"
      },
      "execution_count": null,
      "outputs": []
    },
    {
      "cell_type": "code",
      "source": [
        "model.compile(\n",
        "    loss=tf.keras.losses.SparseCategoricalCrossentropy(from_logits=False),\n",
        "    optimizer=tf.keras.optimizers.Adam(learning_rate=1e-4),\n",
        "    metrics=[tf.keras.metrics.SparseCategoricalAccuracy()]\n",
        ")"
      ],
      "metadata": {
        "id": "WJ0JqUcr4qPB"
      },
      "execution_count": null,
      "outputs": []
    },
    {
      "cell_type": "code",
      "source": [
        "X_train = X_train.astype(str)\n",
        "X_test = X_test.astype(str)\n",
        "\n",
        "X_train_encoded = np.array([encode_texts(text) for text in X_train])\n",
        "X_test_encoded = np.array([encode_texts(text) for text in X_test])"
      ],
      "metadata": {
        "id": "_c_OgOkchmS6"
      },
      "execution_count": null,
      "outputs": []
    },
    {
      "cell_type": "code",
      "source": [
        "X_train_encoded = X_train_encoded.reshape((-1, 512))\n",
        "X_test_encoded = X_test_encoded.reshape((-1, 512))\n",
        "\n",
        "model.fit(\n",
        "    x=X_train_encoded,\n",
        "    y=y_train,\n",
        "    validation_data=(X_test_encoded, y_test),\n",
        "    epochs=20,\n",
        "    batch_size=32\n",
        ")"
      ],
      "metadata": {
        "execution": {
          "iopub.status.busy": "2023-12-04T17:41:57.844643Z",
          "iopub.execute_input": "2023-12-04T17:41:57.845031Z",
          "iopub.status.idle": "2023-12-04T17:55:13.073262Z",
          "shell.execute_reply.started": "2023-12-04T17:41:57.844993Z",
          "shell.execute_reply": "2023-12-04T17:55:13.072285Z"
        },
        "trusted": true,
        "id": "TCy-ol4dUJCo"
      },
      "execution_count": null,
      "outputs": []
    },
    {
      "cell_type": "code",
      "source": [
        "def displayConfusionMatrix(y_true, y_pred, dataset):\n",
        "    disp = ConfusionMatrixDisplay.from_predictions(\n",
        "        y_true,\n",
        "        np.argmax(y_pred, axis=1),\n",
        "        display_labels=[\"Not Generated\",\"Generated\"],\n",
        "        cmap=plt.cm.Blues\n",
        "    )\n",
        "\n",
        "    tn, fp, fn, tp = confusion_matrix(y_true, np.argmax(y_pred, axis=1)).ravel()\n",
        "    f1_score = tp / (tp+((fn+fp)/2))\n",
        "\n",
        "    disp.ax_.set_title(\"Confusion Matrix on \" + dataset + \" Dataset -- F1 Score: \" + str(f1_score.round(2)))\n"
      ],
      "metadata": {
        "execution": {
          "iopub.status.busy": "2023-12-04T17:55:13.074913Z",
          "iopub.execute_input": "2023-12-04T17:55:13.075316Z",
          "iopub.status.idle": "2023-12-04T17:55:13.082603Z",
          "shell.execute_reply.started": "2023-12-04T17:55:13.075262Z",
          "shell.execute_reply": "2023-12-04T17:55:13.081631Z"
        },
        "trusted": true,
        "id": "cWEgf_fVUJCo"
      },
      "execution_count": null,
      "outputs": []
    },
    {
      "cell_type": "code",
      "source": [
        "y_pred_test = model.predict(X_test_encoded)"
      ],
      "metadata": {
        "execution": {
          "iopub.status.busy": "2023-12-04T17:55:13.083829Z",
          "iopub.execute_input": "2023-12-04T17:55:13.084227Z",
          "iopub.status.idle": "2023-12-04T17:59:27.999712Z",
          "shell.execute_reply.started": "2023-12-04T17:55:13.084192Z",
          "shell.execute_reply": "2023-12-04T17:59:27.998573Z"
        },
        "trusted": true,
        "id": "7jNFJthfUJCo"
      },
      "execution_count": null,
      "outputs": []
    },
    {
      "cell_type": "code",
      "source": [
        "def accuracy_score(y_true, y_pred):\n",
        "    y_true = np.asarray(y_true)\n",
        "    y_pred = np.asarray(y_pred)\n",
        "\n",
        "    correct = np.sum(y_true == y_pred)\n",
        "    total = y_true.size\n",
        "\n",
        "    return correct / total\n",
        "\n",
        "y_pred_labels = np.argmax(y_pred_test, axis=1)\n",
        "test_accuracy = accuracy_score(y_test, y_pred_labels)\n",
        "print(f\"Test set accuracy: {test_accuracy:.4f}\")"
      ],
      "metadata": {
        "id": "B0ezWcnHLsek"
      },
      "execution_count": null,
      "outputs": []
    },
    {
      "cell_type": "code",
      "source": [
        "from sklearn.metrics import ConfusionMatrixDisplay, confusion_matrix\n",
        "displayConfusionMatrix(y_test, y_pred_test,  \"Test\")"
      ],
      "metadata": {
        "execution": {
          "iopub.status.busy": "2023-12-04T17:59:28.002974Z",
          "iopub.execute_input": "2023-12-04T17:59:28.003347Z",
          "iopub.status.idle": "2023-12-04T17:59:28.334343Z",
          "shell.execute_reply.started": "2023-12-04T17:59:28.003318Z",
          "shell.execute_reply": "2023-12-04T17:59:28.333405Z"
        },
        "trusted": true,
        "id": "rIFs1V9bUJCo"
      },
      "execution_count": null,
      "outputs": []
    }
  ]
}
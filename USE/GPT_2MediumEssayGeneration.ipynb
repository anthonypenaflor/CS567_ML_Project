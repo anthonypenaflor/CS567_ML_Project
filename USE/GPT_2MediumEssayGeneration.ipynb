{
  "cells": [
    {
      "cell_type": "code",
      "execution_count": null,
      "metadata": {
        "id": "PRon0lg09INS"
      },
      "outputs": [],
      "source": [
        "!pip install pandas\n",
        "!pip install numpy\n",
        "!pip install tensorflow==2.11.0\n",
        "!pip install transformers==4.29.2\n",
        "!pip install scikit-learn\n",
        "!pip install spacy\n",
        "!python -m spacy download en_core_web_sm\n"
      ]
    },
    {
      "cell_type": "code",
      "execution_count": null,
      "metadata": {
        "id": "31yz7xCl9SUw"
      },
      "outputs": [],
      "source": [
        "import pandas as pd\n",
        "import numpy as np\n",
        "from transformers import GPT2Tokenizer, GPT2LMHeadModel\n",
        "from tqdm import tqdm"
      ]
    },
    {
      "cell_type": "code",
      "execution_count": null,
      "metadata": {
        "id": "TnlFbA1o9dQr"
      },
      "outputs": [],
      "source": [
        "data = pd.read_csv('daigt_full_dataset.csv', on_bad_lines='skip')\n",
        "examples = data['text'].tolist()"
      ]
    },
    {
      "cell_type": "code",
      "execution_count": null,
      "metadata": {
        "id": "_WSAaiyT9m2N"
      },
      "outputs": [],
      "source": [
        "tokenizer = GPT2Tokenizer.from_pretrained('gpt2-medium')\n",
        "model = GPT2LMHeadModel.from_pretrained('gpt2-medium')"
      ]
    },
    {
      "cell_type": "code",
      "execution_count": null,
      "metadata": {
        "id": "W2McTm0D7KsM"
      },
      "outputs": [],
      "source": [
        "if tokenizer.pad_token is None:\n",
        "    tokenizer.pad_token = tokenizer.eos_token"
      ]
    },
    {
      "cell_type": "code",
      "execution_count": null,
      "metadata": {
        "id": "3JzDhNwi12oK"
      },
      "outputs": [],
      "source": [
        "def generate_essay(seed_text, min_length=200, max_length=400, temperature=0.7, top_p=0.9, top_k=50):\n",
        "    input_ids = tokenizer.encode(seed_text, return_tensors='pt')\n",
        "\n",
        "    output = model.generate(\n",
        "        input_ids=input_ids,\n",
        "        min_length=min_length + len(input_ids[0]),\n",
        "        max_length=max_length + len(input_ids[0]),\n",
        "        num_return_sequences=1,\n",
        "        temperature=temperature,\n",
        "        top_p=top_p,\n",
        "        top_k=top_k,\n",
        "        pad_token_id=tokenizer.pad_token_id,\n",
        "        no_repeat_ngram_size=2,\n",
        "        early_stopping=True\n",
        "    )\n",
        "\n",
        "    generated_text = tokenizer.decode(output[0], skip_special_tokens=True)\n",
        "    essay_text = generated_text[len(seed_text):].strip()\n",
        "    return essay_text"
      ]
    },
    {
      "cell_type": "code",
      "execution_count": null,
      "metadata": {
        "id": "gPmCIvjr13Nb"
      },
      "outputs": [],
      "source": [
        "df = pd.DataFrame(columns=['text', 'label'])\n"
      ]
    },
    {
      "cell_type": "code",
      "execution_count": null,
      "metadata": {
        "id": "FUFkTEPvbGR0"
      },
      "outputs": [],
      "source": [
        "prompts = {\n",
        "        'Phones and driving': 'Discuss the impact of mobile phones on driving safety, include evidence and recent studies on driver distractions.',\n",
        "        'Car-free cities': 'Explore the benefits and challenges of car-free cities, citing examples from around the world where urban areas have successfully implemented this policy.',\n",
        "        'Summer projects': 'Describe ideal summer projects for college students that combine both learning and practical experience. Provide examples across various fields of study.',\n",
        "        '\"A Cowboy Who Rode the Waves\"': 'Write a book report discussing the book \"A Cowboy Who Rode the Waves\", talk about the story and its impact.',\n",
        "        'Mandatory extracurricular activities': 'Argue why or why not mandatory extracurricular activities should be a thing, include the pros and cons to this.',\n",
        "        'Exploring Venus': 'Talk all things space! Explore the facts about Venus and why it\\'s so cool or if there are any problems about it, this should include facts about the planet.',\n",
        "        'Facial action coding system': 'Discuss the facial action coding system, what is it? what does this teach us about people? is it important? add some facts about this as well.',\n",
        "        'The Face on Mars': 'Discuss the Face on Mars, was it real? is it an optical illusion? pretend you are a high school student talking about if the Face on Mars was real or an optical illusion and back up those claims with facts.',\n",
        "        'Community service': 'Talk about the benefits of community service, who should do community service? should it be required by everyone? discuss the importance of community service as well and provide examples of how community service is a good or bad thing.',\n",
        "        'Grades for extracurricular activities': 'Argue whether or not students should receive grades for extracurricular activities. Discuss if they should be given as bonus grades or required, provide facts about the pros and cons about this topic.',\n",
        "        'Driverless cars': 'Talk about the future! Is Driverless cars the next big thing? provide facts about the pros and cons of driverless cars.',\n",
        "        'Does the electoral college work?': 'Discuss the electoral college and why or why doesn\\'t it work. provide examples on how the electoral college has done.',\n",
        "        'Cell phones at school': 'Discuss if cell phones should be allowed at school. include examples of why a cell phone could be beneficial or harmful to students to use in school.',\n",
        "        'Distance learning': 'Talk about the impact of distance learning due to COVID, provide examples of how students are doing across the world and how distance learning has impacted the rest of the world.',\n",
        "        'Seeking multiple opinions': 'Discuss why we should or should not get the opinion of multiple people. Are there any cases where we should get multiple opinions on a topic? provide examples of when we should or should not seek multiple opinions.'\n",
        "    }"
      ]
    },
    {
      "cell_type": "code",
      "execution_count": null,
      "metadata": {
        "colab": {
          "background_save": true
        },
        "id": "GvxdyvXG17el"
      },
      "outputs": [],
      "source": [
        "num_essays = 1000\n",
        "\n",
        "with tqdm(total=num_essays, unit='essay', ncols=100) as pbar:\n",
        "    for i in range(num_essays):\n",
        "        prompt = np.random.choice(list(prompts.keys()))\n",
        "        seed_text = prompts[prompt]\n",
        "        generated_essay = generate_essay(seed_text)\n",
        "        new_row = pd.DataFrame({'text': [generated_essay], 'label': [1]})\n",
        "        df = pd.concat([df, new_row], ignore_index=True)\n",
        "        pbar.update(1)\n",
        "        pbar.set_description(f\"Generating essay {i+1}/{num_essays}\")\n",
        "\n",
        "df.to_csv('generated_essays.csv', index=False)"
      ]
    }
  ],
  "metadata": {
    "accelerator": "GPU",
    "colab": {
      "gpuType": "T4",
      "machine_shape": "hm",
      "provenance": []
    },
    "kernelspec": {
      "display_name": "Python 3",
      "name": "python3"
    },
    "language_info": {
      "name": "python"
    }
  },
  "nbformat": 4,
  "nbformat_minor": 0
}